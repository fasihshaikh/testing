{
 "cells": [
  {
   "cell_type": "markdown",
   "metadata": {},
   "source": [
    "## Assignment"
   ]
  },
  {
   "cell_type": "code",
   "execution_count": 11,
   "metadata": {},
   "outputs": [],
   "source": [
    "import numpy as np\n",
    "from PIL import Image\n",
    "import os"
   ]
  },
  {
   "cell_type": "code",
   "execution_count": 12,
   "metadata": {},
   "outputs": [
    {
     "name": "stdout",
     "output_type": "stream",
     "text": [
      "Found directory : .\n",
      "Found directory : .\\.git\n",
      "Found directory : .\\.git\\hooks\n",
      "Found directory : .\\.git\\info\n",
      "Found directory : .\\.git\\logs\n",
      "Found directory : .\\.git\\logs\\refs\n",
      "Found directory : .\\.git\\logs\\refs\\heads\n",
      "Found directory : .\\.git\\logs\\refs\\remotes\n",
      "Found directory : .\\.git\\logs\\refs\\remotes\\origin\n",
      "Found directory : .\\.git\\objects\n",
      "Found directory : .\\.git\\objects\\04\n",
      "Found directory : .\\.git\\objects\\06\n",
      "Found directory : .\\.git\\objects\\0b\n",
      "Found directory : .\\.git\\objects\\15\n",
      "Found directory : .\\.git\\objects\\1d\n",
      "Found directory : .\\.git\\objects\\20\n",
      "Found directory : .\\.git\\objects\\27\n",
      "Found directory : .\\.git\\objects\\33\n",
      "Found directory : .\\.git\\objects\\34\n",
      "Found directory : .\\.git\\objects\\39\n",
      "Found directory : .\\.git\\objects\\3c\n",
      "Found directory : .\\.git\\objects\\40\n",
      "Found directory : .\\.git\\objects\\4b\n",
      "Found directory : .\\.git\\objects\\5c\n",
      "Found directory : .\\.git\\objects\\61\n",
      "Found directory : .\\.git\\objects\\71\n",
      "Found directory : .\\.git\\objects\\7d\n",
      "Found directory : .\\.git\\objects\\7f\n",
      "Found directory : .\\.git\\objects\\81\n",
      "Found directory : .\\.git\\objects\\82\n",
      "Found directory : .\\.git\\objects\\83\n",
      "Found directory : .\\.git\\objects\\8c\n",
      "Found directory : .\\.git\\objects\\a1\n",
      "Found directory : .\\.git\\objects\\a6\n",
      "Found directory : .\\.git\\objects\\a9\n",
      "Found directory : .\\.git\\objects\\bd\n",
      "Found directory : .\\.git\\objects\\d2\n",
      "Found directory : .\\.git\\objects\\db\n",
      "Found directory : .\\.git\\objects\\de\n",
      "Found directory : .\\.git\\objects\\ea\n",
      "Found directory : .\\.git\\objects\\ee\n",
      "Found directory : .\\.git\\objects\\ef\n",
      "Found directory : .\\.git\\objects\\info\n",
      "Found directory : .\\.git\\objects\\pack\n",
      "Found directory : .\\.git\\refs\n",
      "Found directory : .\\.git\\refs\\heads\n",
      "Found directory : .\\.git\\refs\\remotes\n",
      "Found directory : .\\.git\\refs\\remotes\\origin\n",
      "Found directory : .\\.git\\refs\\tags\n",
      "Found directory : .\\.ipynb_checkpoints\n",
      "Found directory : .\\Images\n"
     ]
    }
   ],
   "source": [
    "rootDir = '.'\n",
    "for dirName, subDirList,fileList in os.walk(rootDir):\n",
    "    print(\"Found directory : %s\" %dirName)"
   ]
  },
  {
   "cell_type": "code",
   "execution_count": 13,
   "metadata": {},
   "outputs": [
    {
     "name": "stdout",
     "output_type": "stream",
     "text": [
      "3\n"
     ]
    }
   ],
   "source": [
    "image_array = np.zeros([512,512,3])\n",
    "print (image_array.ndim)\n",
    "image_size = (512, 512)"
   ]
  },
  {
   "cell_type": "code",
   "execution_count": 22,
   "metadata": {},
   "outputs": [
    {
     "name": "stdout",
     "output_type": "stream",
     "text": [
      "IM_1.jpg\n",
      "<PIL.JpegImagePlugin.JpegImageFile image mode=RGB size=1440x2560 at 0x188BF04B470>\n",
      "<PIL.Image.Image image mode=RGB size=512x512 at 0x188BDEAC0F0>\n",
      "[  0.   0.   0. ... 190. 163. 143.]\n",
      "IM_10.jpg\n",
      "<PIL.JpegImagePlugin.JpegImageFile image mode=RGB size=1440x2560 at 0x188BF04B128>\n",
      "<PIL.Image.Image image mode=RGB size=512x512 at 0x188BF04B470>\n",
      "[  0.   0.   0. ... 183.  64.  39.]\n",
      "IM_11.jpg\n",
      "<PIL.JpegImagePlugin.JpegImageFile image mode=RGB size=1440x2560 at 0x188BF04B390>\n",
      "<PIL.Image.Image image mode=RGB size=512x512 at 0x188BEFED550>\n",
      "[  0.   0.   0. ... 122. 118.  62.]\n",
      "IM_12.jpg\n",
      "<PIL.JpegImagePlugin.JpegImageFile image mode=RGB size=1440x2560 at 0x188BF04B128>\n",
      "<PIL.Image.Image image mode=RGB size=512x512 at 0x188BF04B390>\n",
      "[ 0.  0.  0. ...  3. 36. 64.]\n",
      "IM_13.jpg\n",
      "<PIL.JpegImagePlugin.JpegImageFile image mode=RGB size=1440x2560 at 0x188BF04B400>\n",
      "<PIL.Image.Image image mode=RGB size=512x512 at 0x188BEFED550>\n",
      "[  0.   0.   0. ... 138. 117.  46.]\n",
      "IM_14.jpg\n",
      "<PIL.JpegImagePlugin.JpegImageFile image mode=RGB size=1440x2560 at 0x188BF04B160>\n",
      "<PIL.Image.Image image mode=RGB size=512x512 at 0x188BF04B400>\n",
      "[ 0.  0.  0. ... 61. 52. 43.]\n",
      "IM_15.jpg\n",
      "<PIL.JpegImagePlugin.JpegImageFile image mode=RGB size=1440x2560 at 0x188BF04B198>\n",
      "<PIL.Image.Image image mode=RGB size=512x512 at 0x188BEFED550>\n",
      "[ 0.  0.  0. ...  2. 34. 23.]\n",
      "IM_16.jpg\n",
      "<PIL.JpegImagePlugin.JpegImageFile image mode=RGB size=1440x2560 at 0x188BF04B160>\n",
      "<PIL.Image.Image image mode=RGB size=512x512 at 0x188BF04B198>\n",
      "[  0.   0.   0. ...  95. 129. 162.]\n",
      "IM_17.jpg\n",
      "<PIL.JpegImagePlugin.JpegImageFile image mode=RGB size=1440x2560 at 0x188BF04B470>\n",
      "<PIL.Image.Image image mode=RGB size=512x512 at 0x188BEFED550>\n",
      "[ 0.  0.  0. ...  0.  2. 15.]\n",
      "IM_18.jpg\n",
      "<PIL.JpegImagePlugin.JpegImageFile image mode=RGB size=1440x2560 at 0x188BF04B208>\n",
      "<PIL.Image.Image image mode=RGB size=512x512 at 0x188BF04B470>\n",
      "[  0.   0.   0. ...  78. 141. 198.]\n",
      "IM_2.jpg\n",
      "<PIL.JpegImagePlugin.JpegImageFile image mode=RGB size=1440x2560 at 0x188BF04B390>\n",
      "<PIL.Image.Image image mode=RGB size=512x512 at 0x188BF048B00>\n",
      "[ 0.  0.  0. ... 31. 72. 64.]\n",
      "IM_20.jpg\n",
      "<PIL.JpegImagePlugin.JpegImageFile image mode=RGB size=1440x2560 at 0x188BF04B1D0>\n",
      "<PIL.Image.Image image mode=RGB size=512x512 at 0x188BF04B390>\n",
      "[ 0.  0.  0. ... 73. 81. 62.]\n",
      "IM_21.jpg\n",
      "<PIL.JpegImagePlugin.JpegImageFile image mode=RGB size=1440x2560 at 0x188BF04B400>\n",
      "<PIL.Image.Image image mode=RGB size=512x512 at 0x188BF048B00>\n",
      "[  0.   0.   0. ... 156. 113.  54.]\n",
      "IM_22.jpg\n",
      "<PIL.JpegImagePlugin.JpegImageFile image mode=RGB size=1440x2560 at 0x188BF04B4E0>\n",
      "<PIL.Image.Image image mode=RGB size=512x512 at 0x188BF04B400>\n",
      "[  0.   0.   0. ... 197. 169.  52.]\n",
      "IM_23.jpg\n",
      "<PIL.JpegImagePlugin.JpegImageFile image mode=RGB size=1440x2560 at 0x188BF04B470>\n",
      "<PIL.Image.Image image mode=RGB size=512x512 at 0x188BF048B00>\n",
      "[  0.   0.   0. ... 110. 121.   6.]\n",
      "IM_24.jpg\n",
      "<PIL.JpegImagePlugin.JpegImageFile image mode=RGB size=1440x2560 at 0x188BF04B518>\n",
      "<PIL.Image.Image image mode=RGB size=512x512 at 0x188BF04B470>\n",
      "[  0.   0.   0. ... 183. 152.  60.]\n",
      "IM_25.jpg\n",
      "<PIL.JpegImagePlugin.JpegImageFile image mode=RGB size=1440x2560 at 0x188BF04B4E0>\n",
      "<PIL.Image.Image image mode=RGB size=512x512 at 0x188BF048B00>\n",
      "[  0.   0.   0. ...  75. 132. 222.]\n",
      "IM_26.jpg\n",
      "<PIL.JpegImagePlugin.JpegImageFile image mode=RGB size=1440x2560 at 0x188BF04B518>\n",
      "<PIL.Image.Image image mode=RGB size=512x512 at 0x188BF04B4E0>\n",
      "[ 0.  0.  0. ... 53. 50. 10.]\n",
      "IM_27.jpg\n",
      "<PIL.JpegImagePlugin.JpegImageFile image mode=RGB size=1440x2560 at 0x188BF04B128>\n",
      "<PIL.Image.Image image mode=RGB size=512x512 at 0x188BF048B00>\n",
      "[  0.   0.   0. ... 137.  85.  38.]\n",
      "IM_3.jpg\n",
      "<PIL.JpegImagePlugin.JpegImageFile image mode=RGB size=1440x2560 at 0x188BF04B518>\n",
      "<PIL.Image.Image image mode=RGB size=512x512 at 0x188BDEAC0F0>\n",
      "[  0.   0.   0. ...   6. 176. 186.]\n",
      "IM_4.jpg\n",
      "<PIL.JpegImagePlugin.JpegImageFile image mode=RGB size=1440x2560 at 0x188BF04B4E0>\n",
      "<PIL.Image.Image image mode=RGB size=512x512 at 0x188BEFED550>\n",
      "[  0.   0.   0. ...  39. 115. 212.]\n",
      "IM_5.jpg\n",
      "<PIL.JpegImagePlugin.JpegImageFile image mode=RGB size=1440x2560 at 0x188BF04B128>\n",
      "<PIL.Image.Image image mode=RGB size=512x512 at 0x188BDEAC0F0>\n",
      "[0. 0. 0. ... 1. 5. 8.]\n",
      "IM_6.jpg\n",
      "<PIL.JpegImagePlugin.JpegImageFile image mode=RGB size=1440x2560 at 0x188BF04B1D0>\n",
      "<PIL.Image.Image image mode=RGB size=512x512 at 0x188BF048B00>\n",
      "[  0.   0.   0. ... 196. 190. 204.]\n",
      "IM_7.jpg\n",
      "<PIL.JpegImagePlugin.JpegImageFile image mode=RGB size=1440x2560 at 0x188BF04B128>\n",
      "<PIL.Image.Image image mode=RGB size=512x512 at 0x188BEFED550>\n",
      "[  0.   0.   0. ... 114.  63.   3.]\n",
      "IM_9.jpg\n",
      "<PIL.JpegImagePlugin.JpegImageFile image mode=RGB size=1440x2560 at 0x188BF04B1D0>\n",
      "<PIL.Image.Image image mode=RGB size=512x512 at 0x188BDEAC0F0>\n",
      "[ 0.  0.  0. ... 61. 78. 50.]\n"
     ]
    }
   ],
   "source": [
    "for fname in fileList:\n",
    "    if fname.endswith('.jpg'):\n",
    "        print(fname)\n",
    "        img = Image.open(fname)\n",
    "        print(img)\n",
    "        resized_img = img.resize((image_size),Image.BICUBIC)\n",
    "        print(resized_img)\n",
    "        image_array = np.append(image_array,resized_img)\n",
    "        #image_array.concatenate(resized_img)\n",
    "        print(image_array)\n",
    "        "
   ]
  },
  {
   "cell_type": "code",
   "execution_count": null,
   "metadata": {},
   "outputs": [],
   "source": []
  },
  {
   "cell_type": "code",
   "execution_count": null,
   "metadata": {},
   "outputs": [],
   "source": []
  }
 ],
 "metadata": {
  "kernelspec": {
   "display_name": "Python 3",
   "language": "python",
   "name": "python3"
  },
  "language_info": {
   "codemirror_mode": {
    "name": "ipython",
    "version": 3
   },
   "file_extension": ".py",
   "mimetype": "text/x-python",
   "name": "python",
   "nbconvert_exporter": "python",
   "pygments_lexer": "ipython3",
   "version": "3.7.3"
  }
 },
 "nbformat": 4,
 "nbformat_minor": 2
}
